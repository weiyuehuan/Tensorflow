{
 "cells": [
  {
   "cell_type": "markdown",
   "metadata": {},
   "source": [
    "## Tensorflow based Pos reconstruction in XENON1T\n",
    "\n",
    "  * Yuehuan and Fei"
   ]
  },
  {
   "cell_type": "code",
   "execution_count": 17,
   "metadata": {
    "collapsed": false
   },
   "outputs": [],
   "source": [
    "# To support both python 2 and python 3\n",
    "from __future__ import division, print_function, unicode_literals\n",
    "\n",
    "# Common imports\n",
    "import numpy as np\n",
    "import numpy.random as rnd\n",
    "import os\n",
    "import matplotlib.pyplot as plt\n",
    "import tensorflow as tf\n",
    "import pandas as pd"
   ]
  },
  {
   "cell_type": "code",
   "execution_count": 2,
   "metadata": {
    "collapsed": true
   },
   "outputs": [],
   "source": [
    "### Loading FAX simulated data frames\n",
    "import pickle\n",
    "df_1 = pickle.load(open('pos_df_2e5_training.pkl','rb'))\n",
    "df_2 = pickle.load(open('pos_df_7e5_training.pkl','rb'))\n",
    "df = pd.concat([df_1,df_2])"
   ]
  },
  {
   "cell_type": "code",
   "execution_count": 29,
   "metadata": {
    "collapsed": false
   },
   "outputs": [],
   "source": [
    "pmthits = df.loc[:,[c for c in df.columns if 'PMT' in c]].values\n",
    "pmthits[np.isnan(pmthits)] = 0\n",
    "\n",
    "list_bad_pmts = [1, 2, 12, 26, 34, 62, 65, 79, 86, 88, 102, 118, 130, 134, 135, 139, 148, 150, 152, 162, 178, 183, 190, 198, 206, 213, 214, 234, 239, 244]\n",
    "pmthits_clean = df.loc[:,[c for i, c in enumerate(df.columns) if 'PMT' in c and i not in list_bad_pmts]].values\n",
    "pmthits_clean[np.isnan(pmthits_clean)] = 0\n",
    "\n",
    "s2top = df['s2top'].values\n",
    "target = df[['xp','yp']].values"
   ]
  },
  {
   "cell_type": "code",
   "execution_count": 30,
   "metadata": {
    "collapsed": false
   },
   "outputs": [],
   "source": [
    "offset = 1e-5\n",
    "for i in range(len(pmthits)):\n",
    "    pmthits[i] /= s2top[i] \n",
    "    pmthits_clean[i] /= s2top[i]\n",
    "\n",
    "pmthits[np.isnan(pmthits)] = 0\n",
    "pmthits_clean[np.isnan(pmthits_clean)] = 0\n",
    "pmthits += offset\n",
    "pmthits_clean += offset"
   ]
  },
  {
   "cell_type": "code",
   "execution_count": 31,
   "metadata": {
    "collapsed": false
   },
   "outputs": [
    {
     "data": {
      "text/plain": [
       "1.0012700149679419"
      ]
     },
     "execution_count": 31,
     "metadata": {},
     "output_type": "execute_result"
    }
   ],
   "source": [
    "pmthits[0].sum()"
   ]
  },
  {
   "cell_type": "code",
   "execution_count": 32,
   "metadata": {
    "collapsed": false
   },
   "outputs": [],
   "source": [
    "## Training samples without removing not working PMTs\n",
    "test_size = 800000\n",
    "remaining_size = len(pmthits_clean) - test_size\n",
    "batch_size = 1000\n",
    "epochs = 20\n",
    "x_train = pmthits_clean[:test_size]\n",
    "y_train = target[:test_size]\n",
    "x_test = pmthits_clean[:-test_size]\n",
    "y_test = target[:-test_size]"
   ]
  },
  {
   "cell_type": "markdown",
   "metadata": {
    "collapsed": true
   },
   "source": [
    "## Using Keras API"
   ]
  },
  {
   "cell_type": "code",
   "execution_count": 33,
   "metadata": {
    "collapsed": false
   },
   "outputs": [],
   "source": [
    "from keras.models import Sequential\n",
    "from keras.layers import Dense, Dropout, Activation\n",
    "from keras.wrappers.scikit_learn import KerasRegressor\n",
    "from sklearn.model_selection import cross_val_score\n",
    "from sklearn.model_selection import KFold\n",
    "from sklearn.preprocessing import StandardScaler\n",
    "from sklearn.pipeline import Pipeline\n",
    "import numpy\n",
    "from keras import regularizers"
   ]
  },
  {
   "cell_type": "code",
   "execution_count": 34,
   "metadata": {
    "collapsed": true
   },
   "outputs": [],
   "source": [
    "# define the model\n",
    "def MLP(activation='elu', reg_scale=0.01, keep_rate=0.2):\n",
    "    # create model\n",
    "    model = Sequential()\n",
    "    model.add(Dense(len(x_train[0]), input_dim=len(x_train[0])))\n",
    "    model.add(Dense(100, kernel_initializer='normal', activation=activation, bias_initializer='zeros', use_bias=True, kernel_regularizer = regularizers.l2(reg_scale)))\n",
    "    model.add(Dropout(keep_rate))\n",
    "    model.add(Dense(80, kernel_initializer='normal', activation=activation, bias_initializer='zeros', use_bias=True, kernel_regularizer = regularizers.l2(reg_scale)))\n",
    "    model.add(Dropout(keep_rate))\n",
    "    model.add(Dense(40, kernel_initializer='normal', activation=activation, bias_initializer='zeros', use_bias=True, kernel_regularizer = regularizers.l2(reg_scale)))\n",
    "    model.add(Dropout(keep_rate))    \n",
    "    model.add(Dense(2))\n",
    "    # Compile model\n",
    "    model.compile(loss='mean_squared_error', optimizer='adam')\n",
    "    return model"
   ]
  },
  {
   "cell_type": "code",
   "execution_count": 35,
   "metadata": {
    "collapsed": false
   },
   "outputs": [
    {
     "name": "stdout",
     "output_type": "stream",
     "text": [
      "Train on 720000 samples, validate on 80000 samples\n",
      "Epoch 1/20\n",
      " - 8s - loss: 61.0450 - val_loss: 3.0560\n",
      "Epoch 2/20\n",
      " - 8s - loss: 22.4727 - val_loss: 2.6928\n",
      "Epoch 3/20\n",
      " - 8s - loss: 21.1910 - val_loss: 2.3087\n",
      "Epoch 4/20\n",
      " - 8s - loss: 20.2666 - val_loss: 2.0105\n",
      "Epoch 5/20\n",
      " - 8s - loss: 19.4935 - val_loss: 2.0125\n",
      "Epoch 6/20\n",
      " - 8s - loss: 18.9574 - val_loss: 1.9949\n",
      "Epoch 7/20\n",
      " - 9s - loss: 18.5521 - val_loss: 1.9244\n",
      "Epoch 8/20\n",
      " - 9s - loss: 18.2039 - val_loss: 2.0688\n",
      "Epoch 9/20\n",
      " - 9s - loss: 17.9611 - val_loss: 1.8609\n",
      "Epoch 10/20\n",
      " - 9s - loss: 17.7751 - val_loss: 2.1003\n",
      "Epoch 11/20\n",
      " - 9s - loss: 17.5855 - val_loss: 2.0290\n",
      "Epoch 12/20\n",
      " - 8s - loss: 17.3142 - val_loss: 1.8723\n",
      "Epoch 13/20\n",
      " - 8s - loss: 17.1634 - val_loss: 1.9354\n",
      "Epoch 14/20\n",
      " - 9s - loss: 17.0629 - val_loss: 2.0423\n",
      "Epoch 15/20\n",
      " - 9s - loss: 17.0177 - val_loss: 1.8694\n",
      "Epoch 16/20\n",
      " - 9s - loss: 16.8874 - val_loss: 1.7844\n",
      "Epoch 17/20\n",
      " - 12s - loss: 16.8681 - val_loss: 1.7119\n",
      "Epoch 18/20\n",
      " - 12s - loss: 16.7831 - val_loss: 1.8771\n",
      "Epoch 19/20\n",
      " - 10s - loss: 16.7703 - val_loss: 1.7697\n",
      "Epoch 20/20\n",
      " - 11s - loss: 16.7373 - val_loss: 1.7879\n"
     ]
    },
    {
     "data": {
      "text/plain": [
       "<keras.callbacks.History at 0x12687e128>"
      ]
     },
     "execution_count": 35,
     "metadata": {},
     "output_type": "execute_result"
    }
   ],
   "source": [
    "test_model = MLP() #KerasRegressor(build_fn=MLP, epochs=10, batch_size=50, verbose=1)\n",
    "test_model.fit(x_train, y_train, batch_size=batch_size, validation_split=0.1, epochs=epochs, verbose=2)"
   ]
  },
  {
   "cell_type": "code",
   "execution_count": 36,
   "metadata": {
    "collapsed": true
   },
   "outputs": [],
   "source": [
    "y_pred_te = test_model.predict(x_test)"
   ]
  },
  {
   "cell_type": "code",
   "execution_count": 37,
   "metadata": {
    "collapsed": false
   },
   "outputs": [
    {
     "data": {
      "text/plain": [
       "(100000, 115)"
      ]
     },
     "execution_count": 37,
     "metadata": {},
     "output_type": "execute_result"
    }
   ],
   "source": [
    "x_test.shape"
   ]
  },
  {
   "cell_type": "code",
   "execution_count": 38,
   "metadata": {
    "collapsed": false
   },
   "outputs": [],
   "source": [
    "y_pred_tr = test_model.predict(x_train)"
   ]
  },
  {
   "cell_type": "code",
   "execution_count": 39,
   "metadata": {
    "collapsed": false
   },
   "outputs": [
    {
     "data": {
      "image/png": "[encoded data removed]",
      "text/plain": [
       "<matplotlib.figure.Figure at 0x1277a8e48>"
      ]
     },
     "metadata": {},
     "output_type": "display_data"
    }
   ],
   "source": [
    "plt.hist(np.sqrt((y_pred_tr[:,0]-y_train[:,0])**2+(y_pred_tr[:,1]-y_train[:,1])**2),bins=200,normed=True, range=(0,20), alpha=0.3, label='Training sample')\n",
    "plt.hist(np.sqrt((y_pred_te[:,0]-y_test[:,0])**2+(y_pred_te[:,1]-y_test[:,1])**2),bins=200,normed=True, range=(0,20), alpha=0.8, label='Test sample')\n",
    "\n",
    "plt.legend()\n",
    "plt.yscale('log')\n",
    "plt.xlabel('${\\Delta}$R [cm]')\n",
    "plt.xlim(0,10)\n",
    "plt.show()"
   ]
  },
  {
   "cell_type": "code",
   "execution_count": 40,
   "metadata": {
    "collapsed": false
   },
   "outputs": [
    {
     "data": {
      "image/png": "[encoded data removed]",
      "text/plain": [
       "<matplotlib.figure.Figure at 0x124f68320>"
      ]
     },
     "metadata": {},
     "output_type": "display_data"
    }
   ],
   "source": [
    "plt.hist(np.sqrt((y_pred_tr[:,0]-y_train[:,0])**2+(y_pred_tr[:,1]-y_train[:,1])**2),bins=200,normed=True, range=(0,20), alpha=0.3, label='Training sample')\n",
    "plt.hist(np.sqrt((y_pred_te[:,0]-y_test[:,0])**2+(y_pred_te[:,1]-y_test[:,1])**2),bins=200,normed=True, range=(0,20), alpha=0.8, label='Test sample')\n",
    "\n",
    "plt.legend()\n",
    "#plt.yscale('log')\n",
    "plt.xlabel('${\\Delta}$R [cm]')\n",
    "plt.xlim(0,10)\n",
    "plt.show()"
   ]
  },
  {
   "cell_type": "code",
   "execution_count": 41,
   "metadata": {
    "collapsed": false
   },
   "outputs": [
    {
     "data": {
      "image/png": "[encoded data removed]",
      "text/plain": [
       "<matplotlib.figure.Figure at 0x127a02710>"
      ]
     },
     "metadata": {},
     "output_type": "display_data"
    }
   ],
   "source": [
    "plt.hist(y_pred_tr[:,0]-y_train[:,0],bins=200,normed=True, range=(-10,10), alpha=0.3, label='Training sample')\n",
    "plt.hist(y_pred_te[:,0]-y_test[:,0],bins=200,normed=True, range=(-10,10), alpha=0.8, label='Test sample')\n",
    "\n",
    "plt.legend()\n",
    "#plt.yscale('log')\n",
    "plt.xlabel('${\\Delta}$X [cm]')\n",
    "plt.xlim(-10,10)\n",
    "plt.show()"
   ]
  },
  {
   "cell_type": "code",
   "execution_count": 42,
   "metadata": {
    "collapsed": false
   },
   "outputs": [
    {
     "data": {
      "image/png": "[encoded data removed]",
      "text/plain": [
       "<matplotlib.figure.Figure at 0x127a0e630>"
      ]
     },
     "metadata": {},
     "output_type": "display_data"
    }
   ],
   "source": [
    "test = plt.hist(y_pred_tr[:,1]-y_train[:,1],bins=200,normed=True, range=(-10,10), alpha=0.3, label='Training sample')\n",
    "plt.hist(y_pred_te[:,1]-y_test[:,1],bins=200,normed=True, range=(-10,10), alpha=0.8, label='Test sample')\n",
    "\n",
    "plt.legend()\n",
    "#plt.yscale('log')\n",
    "plt.xlabel('${\\Delta}$Y [cm]')\n",
    "plt.xlim(-10,10)\n",
    "plt.show()"
   ]
  },
  {
   "cell_type": "code",
   "execution_count": 28,
   "metadata": {
    "collapsed": false
   },
   "outputs": [
    {
     "data": {
      "text/plain": [
       "0.077650608522821768"
      ]
     },
     "execution_count": 28,
     "metadata": {},
     "output_type": "execute_result"
    }
   ],
   "source": [
    "np.mean(y_test[:,1]-y_test[:,0])"
   ]
  },
  {
   "cell_type": "code",
   "execution_count": null,
   "metadata": {
    "collapsed": true
   },
   "outputs": [],
   "source": []
  },
  {
   "cell_type": "code",
   "execution_count": null,
   "metadata": {
    "collapsed": true
   },
   "outputs": [],
   "source": []
  },
  {
   "cell_type": "markdown",
   "metadata": {},
   "source": [
    "## Using plain Tensorflow, does not converge yet, don't try"
   ]
  },
  {
   "cell_type": "code",
   "execution_count": null,
   "metadata": {
    "collapsed": false
   },
   "outputs": [],
   "source": [
    "import tensorflow as tf\n",
    "tf.reset_default_graph()\n",
    "\n",
    "n_inputs = len(x_train[0])\n",
    "n_hidden1 = 100\n",
    "n_hidden2 = 80\n",
    "n_outputs = 1\n",
    "learning_rate = 0.01\n",
    "\n",
    "tf_x = tf.placeholder(tf.float32, shape=(None, n_inputs), name=\"tf_x\")\n",
    "tf_y = tf.placeholder(tf.float32, shape=(None), name=\"tf_y\")\n",
    "\n",
    "with tf.name_scope(\"dnn\"):\n",
    "    hidden1 = tf.layers.dense(tf_x, n_hidden1, activation=tf.nn.elu, name=\"hidden1\")\n",
    "#    hidden2 = tf.layers.dense(hidden1, n_hidden2, activation=tf.nn.elu, name=\"hidden2\")\n",
    "    output = tf.layers.dense(hidden1, n_outputs,activation=tf.nn.elu,name=\"outputs\")\n",
    "\n",
    "with tf.name_scope(\"loss\"):\n",
    "    loss = tf.losses.mean_squared_error(tf_y, output)  # compute cost\n",
    "\n",
    "with tf.name_scope(\"train\"):\n",
    "    #optimizer = tf.train.GradientDescentOptimizer(learning_rate)\n",
    "    optimizer = tf.train.AdamOptimizer()\n",
    "    training_op = optimizer.minimize(loss)\n",
    "\n",
    "with tf.name_scope(\"eval\"):\n",
    "    evaluation = tf.losses.mean_squared_error(tf_y, output)\n",
    "    \n",
    "init = tf.global_variables_initializer()\n",
    "saver = tf.train.Saver()\n",
    "\n",
    "with tf.Session() as sess:\n",
    "    init.run()\n",
    "    for epoch in range(epochs):\n",
    "        #sess.run([train_op, loss, output], {X: x_train, y: y_train})\n",
    "        sess.run(training_op, {tf_x: x_train, tf_y: y_train})\n",
    "        losst = evaluation.eval(feed_dict={tf_x: x_train, tf_y: y_train})\n",
    "        if epoch % 5 ==0:\n",
    "            print(losst)"
   ]
  },
  {
   "cell_type": "markdown",
   "metadata": {},
   "source": [
    "## Using Convolutional NN, don't try yet"
   ]
  },
  {
   "cell_type": "code",
   "execution_count": null,
   "metadata": {
    "collapsed": false
   },
   "outputs": [],
   "source": [
    "'''This example demonstrates the use of Convolution1D for text classification.\n",
    "Gets to 0.89 test accuracy after 2 epochs.\n",
    "90s/epoch on Intel i5 2.4Ghz CPU.\n",
    "10s/epoch on Tesla K40 GPU.\n",
    "'''\n",
    "from __future__ import print_function\n",
    "\n",
    "from keras.preprocessing import sequence\n",
    "from keras.models import Sequential\n",
    "from keras.layers import Dense, Dropout, Activation\n",
    "from keras.layers import Embedding\n",
    "from keras.layers import Conv1D, GlobalMaxPooling1D\n",
    "from keras.datasets import imdb\n",
    "from keras import regularizers\n",
    "\n",
    "# set parameters:\n",
    "max_features = 5000\n",
    "maxlen = 400\n",
    "batch_size = 100\n",
    "embedding_dims = 50\n",
    "filters = 50\n",
    "kernel_size = 3\n",
    "hidden_dims = 50\n",
    "epochs = 5\n",
    "test_size = 500\n",
    "print('Loading data...')\n",
    "#(x_train, y_train), (x_test, y_test) = imdb.load_data(num_words=max_features)\n",
    "print(len(pmthits), 'train sequences')\n",
    "\n",
    "print('Pad sequences (samples x time)')\n",
    "x_train = sequence.pad_sequences(pmthits[:test_size], maxlen=maxlen)\n",
    "y_train = target[:test_size]\n",
    "print('x_train shape:', x_train.shape)\n",
    "print('Build model...')\n",
    "model = Sequential()\n",
    "\n",
    "# we start off with an efficient embedding layer which maps\n",
    "# our vocab indices into embedding_dims dimensions\n",
    "model.add(Embedding(max_features,\n",
    "                    embedding_dims,\n",
    "                    input_length=maxlen))\n",
    "model.add(Dropout(0.2))\n",
    "\n",
    "# we add a Convolution1D, which will learn filters\n",
    "# word group filters of size filter_length:\n",
    "model.add(Conv1D(filters,\n",
    "                 kernel_size,\n",
    "                 padding='valid',\n",
    "                 activation='elu',\n",
    "                 #kernel_regularizer = regularizers.l2(0.001),\n",
    "                 # bias_regularizer=regularizers.l1(0.0001),\n",
    "                 #activity_regularizer=regularizers.l1(0.01),\n",
    "                 strides=1))\n",
    "# we use max pooling:\n",
    "model.add(GlobalMaxPooling1D())\n",
    "\n",
    "# We add a vanilla hidden layer:\n",
    "model.add(Dense(hidden_dims,\n",
    "                #kernel_regularizer = regularizers.l2(0.0001),\n",
    "                # bias_regularizer=regularizers.l1(0.0001),\n",
    "                #activity_regularizer=regularizers.l1(0.01)\n",
    "               ))\n",
    "model.add(Dropout(0.5))\n",
    "#model.add(Activation('relu'))\n",
    "\n",
    "# We project onto a single unit output layer, and squash it with a sigmoid:\n",
    "model.add(Dense(2))\n",
    "#model.add(Activation('sigmoid'))\n",
    "model.add(Activation('relu'))\n",
    "\n",
    "model.compile(loss='mean_squared_error',\n",
    "              optimizer='adam')\n",
    "model.fit(x_train, y_train,\n",
    "          batch_size=batch_size,\n",
    "          epochs=epochs)"
   ]
  },
  {
   "cell_type": "code",
   "execution_count": null,
   "metadata": {
    "collapsed": false
   },
   "outputs": [],
   "source": [
    "result = model.predict(x_train)\n",
    "\n",
    "#((result - y_train)**2).sum()"
   ]
  },
  {
   "cell_type": "code",
   "execution_count": null,
   "metadata": {
    "collapsed": false
   },
   "outputs": [],
   "source": [
    "y_train"
   ]
  },
  {
   "cell_type": "code",
   "execution_count": null,
   "metadata": {
    "collapsed": true
   },
   "outputs": [],
   "source": []
  },
  {
   "cell_type": "code",
   "execution_count": null,
   "metadata": {
    "collapsed": true
   },
   "outputs": [],
   "source": []
  },
  {
   "cell_type": "code",
   "execution_count": null,
   "metadata": {
    "collapsed": true
   },
   "outputs": [],
   "source": []
  },
  {
   "cell_type": "code",
   "execution_count": null,
   "metadata": {
    "collapsed": true
   },
   "outputs": [],
   "source": []
  }
 ],
 "metadata": {
  "anaconda-cloud": {},
  "kernelspec": {
   "display_name": "Python [conda env:pax_head]",
   "language": "python",
   "name": "conda-env-pax_head-py"
  },
  "language_info": {
   "codemirror_mode": {
    "name": "ipython",
    "version": 3
   },
   "file_extension": ".py",
   "mimetype": "text/x-python",
   "name": "python",
   "nbconvert_exporter": "python",
   "pygments_lexer": "ipython3",
   "version": "3.4.5"
  }
 },
 "nbformat": 4,
 "nbformat_minor": 1
}
